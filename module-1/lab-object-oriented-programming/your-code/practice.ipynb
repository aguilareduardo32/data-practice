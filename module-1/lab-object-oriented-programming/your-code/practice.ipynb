{
 "cells": [
  {
   "cell_type": "code",
   "execution_count": 30,
   "metadata": {},
   "outputs": [
    {
     "name": "stdout",
     "output_type": "stream",
     "text": [
      "wow\n"
     ]
    }
   ],
   "source": [
    "class Pet:\n",
    "\n",
    "    def __init__(self, name, age):\n",
    "        self.name = name\n",
    "        self.age = age\n",
    "    \n",
    "    def show(self):\n",
    "        print(f'I am {self.name} and I am {self.age} years old')\n",
    "\n",
    "    def speak(self):\n",
    "        print('I speak')\n",
    "\n",
    "class Cat(Pet):\n",
    "    def speak(self):\n",
    "        print('Meow')\n",
    "\n",
    "class Dog(Pet):\n",
    "    def speak(self):\n",
    "        print('wow')\n",
    "\n",
    "\n",
    "\n",
    "\n",
    "d = Dog('diana', 30)\n",
    "d.speak()"
   ]
  },
  {
   "cell_type": "code",
   "execution_count": 37,
   "metadata": {},
   "outputs": [],
   "source": [
    "class Vehicle:\n",
    "\n",
    "\n",
    "    color = 'White'\n",
    "\n",
    "    def __init__(self, name,  max_speed, mileage, capacity):\n",
    "        self.name = name\n",
    "        self.max_speed = max_speed\n",
    "        self.mileage = mileage\n",
    "        self.capacity = capacity\n",
    "\n",
    "        \n",
    "\n",
    "    def seating_capacity(self, capacity):\n",
    "        return f'the seating capacity of a {self.name} is {capacity} passengers'\n",
    "    \n",
    "    def fare(self):\n",
    "        return self.capacity * 100\n",
    "\n",
    "#modelX = Vehicle('tesla',240,18)\n",
    "#print(modelX.name ,modelX.max_speed, modelX.mileage)"
   ]
  },
  {
   "cell_type": "code",
   "execution_count": 48,
   "metadata": {},
   "outputs": [
    {
     "name": "stdout",
     "output_type": "stream",
     "text": [
      "Vehicle name: school Volvo max speed: 180 mileage: 12\n"
     ]
    }
   ],
   "source": [
    "##Inheretance, create a Bus object that inherent all the methods of the parent Vehicle. \n",
    "\n",
    "\n",
    "class Bus(Vehicle):\n",
    "    #asign default value to capacity\n",
    "\n",
    "    def seating_capacity(self):\n",
    "        return super().seating_capacity(self.capacity)\n",
    "    \n",
    "    def fare(self):\n",
    "        amount = super().fare()\n",
    "        amount += amount *10/100\n",
    "        return amount\n",
    "\n",
    "school_bus = Bus('school Volvo', 180, 12, 50)\n",
    "\n",
    "print('Vehicle name:', school_bus.name, 'max speed:', school_bus.max_speed, 'mileage:', school_bus.mileage)"
   ]
  },
  {
   "cell_type": "code",
   "execution_count": 49,
   "metadata": {},
   "outputs": [
    {
     "data": {
      "text/plain": [
       "'the seating capacity of a school Volvo is 50 passengers'"
      ]
     },
     "execution_count": 49,
     "metadata": {},
     "output_type": "execute_result"
    }
   ],
   "source": [
    "school_bus.seating_capacity()"
   ]
  },
  {
   "cell_type": "code",
   "execution_count": 50,
   "metadata": {},
   "outputs": [
    {
     "data": {
      "text/plain": [
       "'White'"
      ]
     },
     "execution_count": 50,
     "metadata": {},
     "output_type": "execute_result"
    }
   ],
   "source": [
    "school_bus.color"
   ]
  },
  {
   "cell_type": "code",
   "execution_count": 51,
   "metadata": {},
   "outputs": [
    {
     "name": "stdout",
     "output_type": "stream",
     "text": [
      "total school bus fare is: 5500.0\n"
     ]
    }
   ],
   "source": [
    "print('total school bus fare is:', school_bus.fare())"
   ]
  },
  {
   "cell_type": "code",
   "execution_count": 53,
   "metadata": {},
   "outputs": [
    {
     "name": "stdout",
     "output_type": "stream",
     "text": [
      "True\n"
     ]
    }
   ],
   "source": [
    "print(isinstance(school_bus, Vehicle))"
   ]
  },
  {
   "cell_type": "code",
   "execution_count": null,
   "metadata": {},
   "outputs": [],
   "source": [
    "class Matrix:\n",
    "\n",
    "    def __init__(self, dims, fill):\n",
    "\n",
    "        self.rows = dims[0]\n",
    "        self.cols = dims[1]\n",
    "        self.A == [[fill] * self.cols for i in range(self.rows)]"
   ]
  }
 ],
 "metadata": {
  "kernelspec": {
   "display_name": "Python 3",
   "language": "python",
   "name": "python3"
  },
  "language_info": {
   "codemirror_mode": {
    "name": "ipython",
    "version": 3
   },
   "file_extension": ".py",
   "mimetype": "text/x-python",
   "name": "python",
   "nbconvert_exporter": "python",
   "pygments_lexer": "ipython3",
   "version": "3.9.0"
  },
  "orig_nbformat": 4
 },
 "nbformat": 4,
 "nbformat_minor": 2
}
