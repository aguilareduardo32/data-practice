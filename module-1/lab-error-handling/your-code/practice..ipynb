{
 "cells": [
  {
   "attachments": {},
   "cell_type": "markdown",
   "metadata": {},
   "source": [
    "## Lesson Goals\n",
    "\n",
    "Learn abou common Python error types.\n",
    "\n",
    "\n",
    "Learn how to read Python error messages.\n",
    "\n",
    "\n",
    "Write exceptions in your code.\n",
    "\n",
    "\n",
    "Catch and handle exceptions in your code."
   ]
  },
  {
   "attachments": {},
   "cell_type": "markdown",
   "metadata": {},
   "source": [
    "## Writting exceptions\n",
    "\n"
   ]
  },
  {
   "cell_type": "code",
   "execution_count": 6,
   "metadata": {},
   "outputs": [
    {
     "ename": "ValueError",
     "evalue": "The number entered is not even!",
     "output_type": "error",
     "traceback": [
      "\u001b[1;31m---------------------------------------------------------------------------\u001b[0m",
      "\u001b[1;31mValueError\u001b[0m                                Traceback (most recent call last)",
      "\u001b[1;32mC:\\Users\\YAELAG~1\\AppData\\Local\\Temp/ipykernel_14284/490610633.py\u001b[0m in \u001b[0;36m<module>\u001b[1;34m\u001b[0m\n\u001b[0;32m      9\u001b[0m \u001b[1;33m\u001b[0m\u001b[0m\n\u001b[0;32m     10\u001b[0m \u001b[1;33m\u001b[0m\u001b[0m\n\u001b[1;32m---> 11\u001b[1;33m \u001b[0meven_number\u001b[0m\u001b[1;33m(\u001b[0m\u001b[1;36m3\u001b[0m\u001b[1;33m)\u001b[0m\u001b[1;33m\u001b[0m\u001b[1;33m\u001b[0m\u001b[0m\n\u001b[0m",
      "\u001b[1;32mC:\\Users\\YAELAG~1\\AppData\\Local\\Temp/ipykernel_14284/490610633.py\u001b[0m in \u001b[0;36meven_number\u001b[1;34m(num)\u001b[0m\n\u001b[0;32m      3\u001b[0m     \u001b[1;32mif\u001b[0m \u001b[0mnum\u001b[0m \u001b[1;33m%\u001b[0m \u001b[1;36m2\u001b[0m \u001b[1;33m!=\u001b[0m\u001b[1;36m0\u001b[0m\u001b[1;33m:\u001b[0m\u001b[1;33m\u001b[0m\u001b[1;33m\u001b[0m\u001b[0m\n\u001b[0;32m      4\u001b[0m \u001b[1;33m\u001b[0m\u001b[0m\n\u001b[1;32m----> 5\u001b[1;33m         \u001b[1;32mraise\u001b[0m \u001b[0mValueError\u001b[0m\u001b[1;33m(\u001b[0m\u001b[1;34m'The number entered is not even!'\u001b[0m\u001b[1;33m)\u001b[0m\u001b[1;33m\u001b[0m\u001b[1;33m\u001b[0m\u001b[0m\n\u001b[0m\u001b[0;32m      6\u001b[0m         \u001b[0mprint\u001b[0m\u001b[1;33m(\u001b[0m\u001b[1;34m'prueba'\u001b[0m\u001b[1;33m)\u001b[0m\u001b[1;33m\u001b[0m\u001b[1;33m\u001b[0m\u001b[0m\n\u001b[0;32m      7\u001b[0m     \u001b[1;32melse\u001b[0m\u001b[1;33m:\u001b[0m\u001b[1;33m\u001b[0m\u001b[1;33m\u001b[0m\u001b[0m\n",
      "\u001b[1;31mValueError\u001b[0m: The number entered is not even!"
     ]
    }
   ],
   "source": [
    "def even_number(num):\n",
    "\n",
    "    if num % 2 !=0:\n",
    "        \n",
    "        raise ValueError('The number entered is not even!')\n",
    "        print('prueba')\n",
    "    else:\n",
    "        print('number accepted.')\n",
    "\n",
    "\n",
    "even_number(3)        "
   ]
  },
  {
   "attachments": {},
   "cell_type": "markdown",
   "metadata": {},
   "source": [
    "## Catching exceptions"
   ]
  },
  {
   "cell_type": "code",
   "execution_count": 12,
   "metadata": {},
   "outputs": [
    {
     "name": "stdout",
     "output_type": "stream",
     "text": [
      "the even function errored out\n"
     ]
    }
   ],
   "source": [
    "try:\n",
    "\n",
    "    even_number(3)\n",
    "except:\n",
    "    print('the even function errored out')"
   ]
  },
  {
   "cell_type": "code",
   "execution_count": 13,
   "metadata": {},
   "outputs": [
    {
     "name": "stdout",
     "output_type": "stream",
     "text": [
      "number accepted.\n",
      "the even function ran successfully.\n",
      "this line of code still executes\n"
     ]
    }
   ],
   "source": [
    "try:\n",
    "    even_number(4)\n",
    "except:\n",
    "    print('the number function errored out')\n",
    "\n",
    "else:\n",
    "    print('the even function ran successfully.')\n",
    "\n",
    "print('this line of code still executes')"
   ]
  },
  {
   "cell_type": "code",
   "execution_count": 14,
   "metadata": {},
   "outputs": [
    {
     "name": "stdout",
     "output_type": "stream",
     "text": [
      "the number function errored out\n",
      "End of the sequence\n",
      "this still rpints\n"
     ]
    }
   ],
   "source": [
    "try:\n",
    "    even_number(3)\n",
    "except:\n",
    "    print('the number function errored out')\n",
    "else:\n",
    "    print('is an even number')\n",
    "finally:\n",
    "    print('End of the sequence')\n",
    "\n",
    "print('this still rpints')"
   ]
  },
  {
   "cell_type": "code",
   "execution_count": 22,
   "metadata": {},
   "outputs": [
    {
     "name": "stdout",
     "output_type": "stream",
     "text": [
      "Analizing the number: 1\n",
      "the int check function run successfully.\n",
      "the even number function errored out\n",
      "\n",
      "\n",
      "Analizing the number: 2\n",
      "the int check function run successfully.\n",
      "number accepted.\n",
      "\n",
      "\n",
      "Analizing the number: 3.7\n",
      "The int_check function errored out\n",
      "\n",
      "\n",
      "Analizing the number: 4\n",
      "the int check function run successfully.\n",
      "number accepted.\n",
      "\n",
      "\n",
      "Analizing the number: 5.5\n",
      "The int_check function errored out\n",
      "\n",
      "\n",
      "Analizing the number: 7\n",
      "the int check function run successfully.\n",
      "the even number function errored out\n",
      "\n",
      "\n",
      "Analizing the number: 10\n",
      "the int check function run successfully.\n",
      "number accepted.\n",
      "\n",
      "\n"
     ]
    }
   ],
   "source": [
    "def int_check(integer):\n",
    "    if type(integer) != int:\n",
    "        raise ValueError('the number entered is not an integer')\n",
    "    else:\n",
    "        pass\n",
    "\n",
    "numbers = [1,2,3.7,4,5.5,7,10]\n",
    "\n",
    "evens = []\n",
    "\n",
    "for number in numbers:\n",
    "    print('Analizing the number:', str(number))\n",
    "\n",
    "    try:\n",
    "        int_check(number)\n",
    "    except:\n",
    "        print('The int_check function errored out')\n",
    "    else:\n",
    "        print('the int check function run successfully.')\n",
    "        try:\n",
    "            even_number(number)\n",
    "        except:\n",
    "            print('the even number function errored out')\n",
    "        else:\n",
    "            evens.append(number)\n",
    "\n",
    "    print('\\n')\n"
   ]
  },
  {
   "cell_type": "code",
   "execution_count": 24,
   "metadata": {},
   "outputs": [
    {
     "data": {
      "text/plain": [
       "[2, 4, 10]"
      ]
     },
     "execution_count": 24,
     "metadata": {},
     "output_type": "execute_result"
    }
   ],
   "source": [
    "evens"
   ]
  },
  {
   "cell_type": "code",
   "execution_count": null,
   "metadata": {},
   "outputs": [],
   "source": []
  }
 ],
 "metadata": {
  "kernelspec": {
   "display_name": "Python 3",
   "language": "python",
   "name": "python3"
  },
  "language_info": {
   "codemirror_mode": {
    "name": "ipython",
    "version": 3
   },
   "file_extension": ".py",
   "mimetype": "text/x-python",
   "name": "python",
   "nbconvert_exporter": "python",
   "pygments_lexer": "ipython3",
   "version": "3.9.0"
  },
  "orig_nbformat": 4
 },
 "nbformat": 4,
 "nbformat_minor": 2
}
