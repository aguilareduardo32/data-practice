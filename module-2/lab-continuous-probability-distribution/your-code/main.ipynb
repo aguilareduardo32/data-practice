{
 "cells": [
  {
   "cell_type": "markdown",
   "metadata": {},
   "source": [
    "# Before your start:\n",
    "\n",
    "    Read the README.md file\n",
    "    Comment as much as you can and use the resources (README.md file)\n",
    "    Happy learning!"
   ]
  },
  {
   "cell_type": "markdown",
   "metadata": {},
   "source": [
    "In this exercise, we  will generate random numbers from the continuous disributions we learned in the lesson. There are two ways to generate random numbers:\n",
    "\n",
    "1. Using the numpy library \n",
    "1. using the Scipy library \n",
    "\n",
    "Use either or both of the lbraries in this exercise."
   ]
  },
  {
   "cell_type": "markdown",
   "metadata": {},
   "source": [
    "## Uniform Distribution\n",
    "\n",
    "To generate uniform random numbers between any two given values using scipy, we can either use the following code or the code that we have\n",
    "discussed in class:"
   ]
  },
  {
   "cell_type": "code",
   "execution_count": 1,
   "metadata": {},
   "outputs": [
    {
     "data": {
      "text/plain": [
       "array([3.33893505, 3.4279993 , 2.54653585, 3.72299048, 2.68594974,\n",
       "       3.6183769 , 2.44561252, 2.34420935, 2.68223182, 3.1553942 ])"
      ]
     },
     "execution_count": 1,
     "metadata": {},
     "output_type": "execute_result"
    }
   ],
   "source": [
    "from scipy.stats import uniform\n",
    "x = uniform.rvs(size=10)\n",
    "a = 2\n",
    "b = 4\n",
    "random = a + (b-a)*x\n",
    "random"
   ]
  },
  {
   "cell_type": "code",
   "execution_count": 6,
   "metadata": {},
   "outputs": [
    {
     "name": "stdout",
     "output_type": "stream",
     "text": [
      "[2.39551637 3.1847736  2.54509068 3.70548629 3.66665475 3.64102373\n",
      " 2.27091127 2.87952687 2.32644845 2.33553256]\n"
     ]
    }
   ],
   "source": [
    "from scipy.stats import uniform\n",
    "x = uniform.rvs(size=10)\n",
    "a = 2\n",
    "b = 4\n",
    "randoms  = a + (b-a)*x\n",
    "print(randoms)"
   ]
  },
  {
   "cell_type": "code",
   "execution_count": 12,
   "metadata": {},
   "outputs": [],
   "source": [
    "def func(x, y, z):\n",
    "    z1 = uniform.rvs(size= z)\n",
    "    return x + (y-x)*z1"
   ]
  },
  {
   "cell_type": "code",
   "execution_count": 13,
   "metadata": {},
   "outputs": [
    {
     "data": {
      "text/plain": [
       "(array([103., 103., 107., 105., 113.,  86.,  90.,  95.,  91., 107.]),\n",
       " array([10.01533724, 15.00098794, 19.98663865, 24.97228935, 29.95794006,\n",
       "        34.94359077, 39.92924147, 44.91489218, 49.90054288, 54.88619359,\n",
       "        59.8718443 ]),\n",
       " <BarContainer object of 10 artists>)"
      ]
     },
     "execution_count": 13,
     "metadata": {},
     "output_type": "execute_result"
    },
    {
     "data": {
      "image/png": "[encoded data removed]",
      "text/plain": [
       "<Figure size 432x288 with 2 Axes>"
      ]
     },
     "metadata": {
      "needs_background": "light"
     },
     "output_type": "display_data"
    }
   ],
   "source": [
    "import matplotlib.pyplot as plt\n",
    "\n",
    "fig, axs = plt.subplots(1, 2, sharey =True)\n",
    "axs[0].hist(func(10,15,100), bins=10)\n",
    "axs[1].hist(func(10,60,1000), bins = 10)"
   ]
  },
  {
   "cell_type": "markdown",
   "metadata": {},
   "source": [
    "**Your task:**\n",
    "\n",
    "1. Based on the code above, write a function that generates uniformly distributed random numbers. There are several requirements for your function:\n",
    "    * It should accept 3 parameters: \n",
    "        * `bottom` - the lower boundary of the generated numbers\n",
    "        * `ceiling` - the upper boundary of the generated numbers\n",
    "        * `count` - how many numbers to generate\n",
    "    * It should return an array of uniformly distributed random numbers\n",
    "\n",
    "1. Call your function with 2 sets of params below:\n",
    "    * bottom=10, ceiling=15, count=100\n",
    "    * bottom=10, ceiling=60, count=1,000\n",
    "\n",
    "1. Plot the uniform distributions generated above using histograms, where x axis is the value and y axis is the count. Let the histogram's number of bins be 10.\n",
    "\n",
    "Your output should look like below:\n",
    "\n",
    "![uniform distribution](ud.png)"
   ]
  },
  {
   "cell_type": "code",
   "execution_count": 7,
   "metadata": {},
   "outputs": [],
   "source": [
    "def func(x,y,z):\n",
    "    z = uniform.rvs(size = z)\n",
    "    x = x\n",
    "    y = y\n",
    "    return  x+(x-y)* z"
   ]
  },
  {
   "cell_type": "code",
   "execution_count": 8,
   "metadata": {},
   "outputs": [
    {
     "data": {
      "text/plain": [
       "array([5.56233995, 9.65026354, 6.44629348, 5.06462691, 8.24397466,\n",
       "       5.56549949, 9.52926658, 6.05722082, 8.94810066, 5.6147211 ,\n",
       "       5.65211867, 9.82856047, 5.60682819, 9.71124775, 8.05437212,\n",
       "       9.24379645, 8.23036433, 6.47012595, 7.23671291, 6.47119352,\n",
       "       5.96444878, 8.5413066 , 6.21877048, 7.36787379, 5.95697097,\n",
       "       9.89498582, 7.52591533, 7.18878447, 9.62660743, 6.84338839,\n",
       "       5.24117476, 9.49775102, 5.99083534, 7.11330572, 9.69867761,\n",
       "       7.61151758, 8.9789    , 6.79718881, 6.29538873, 8.51873396,\n",
       "       7.04438512, 6.17886835, 9.54539986, 9.17862652, 9.98087639,\n",
       "       6.52984596, 6.98613887, 9.05566915, 9.58609709, 5.54147627,\n",
       "       9.15380563, 8.80832465, 8.62366561, 8.63152325, 6.4472915 ,\n",
       "       5.64845283, 9.85925523, 8.03308049, 8.65835214, 9.85697382,\n",
       "       6.98212741, 5.00515707, 6.44550007, 5.91828206, 6.00880003,\n",
       "       8.98470201, 8.32088853, 5.8634901 , 9.42573261, 7.34160084,\n",
       "       6.96554236, 6.96659914, 5.95874972, 9.67696228, 9.89910162,\n",
       "       7.12534749, 7.83270326, 9.48966291, 5.87135251, 9.22319229,\n",
       "       6.65233342, 6.74408671, 6.06528961, 8.98851759, 8.06275767,\n",
       "       5.67272185, 5.53109346, 6.43511928, 9.54900558, 8.00688047,\n",
       "       5.64992787, 6.94996234, 5.01032632, 9.34977054, 9.68336009,\n",
       "       6.06710428, 6.26465008, 5.79922618, 5.81314696, 5.87388801])"
      ]
     },
     "execution_count": 8,
     "metadata": {},
     "output_type": "execute_result"
    }
   ],
   "source": [
    "func(10,15,100)"
   ]
  },
  {
   "cell_type": "code",
   "execution_count": 10,
   "metadata": {},
   "outputs": [],
   "source": [
    "# your code here\n",
    "\n",
    "def func(bottom, ceiling, count):\n",
    "    x = uniform.rvs(size=count)\n",
    "    a = bottom\n",
    "    b = ceiling\n",
    "    randoms = a + (b-a)* x\n",
    "    return randoms\n",
    "    "
   ]
  },
  {
   "cell_type": "code",
   "execution_count": 11,
   "metadata": {},
   "outputs": [
    {
     "data": {
      "text/plain": [
       "(array([ 90., 113., 104., 104., 108.,  91.,  88.,  99.,  96., 107.]),\n",
       " array([10.00335464, 15.0013577 , 19.99936077, 24.99736383, 29.9953669 ,\n",
       "        34.99336996, 39.99137303, 44.9893761 , 49.98737916, 54.98538223,\n",
       "        59.98338529]),\n",
       " <BarContainer object of 10 artists>)"
      ]
     },
     "execution_count": 11,
     "metadata": {},
     "output_type": "execute_result"
    },
    {
     "data": {
      "image/png": "[encoded data removed]",
      "text/plain": [
       "<Figure size 432x288 with 2 Axes>"
      ]
     },
     "metadata": {
      "needs_background": "light"
     },
     "output_type": "display_data"
    }
   ],
   "source": [
    "import matplotlib.pyplot as plt\n",
    "\n",
    "\n",
    "fig, axs = plt.subplots(1,2, sharey = True)\n",
    "axs[0].hist(func(10,15,100), bins=10)\n",
    "axs[1].hist(func(10,60,1000), bins=10)\n"
   ]
  },
  {
   "cell_type": "code",
   "execution_count": null,
   "metadata": {},
   "outputs": [],
   "source": []
  },
  {
   "cell_type": "code",
   "execution_count": null,
   "metadata": {},
   "outputs": [],
   "source": []
  },
  {
   "cell_type": "markdown",
   "metadata": {},
   "source": [
    "How are the two distributions different?"
   ]
  },
  {
   "cell_type": "code",
   "execution_count": 14,
   "metadata": {},
   "outputs": [],
   "source": [
    "# your answer below\n",
    "\n",
    "#range and frequency are difer rom each other"
   ]
  },
  {
   "cell_type": "markdown",
   "metadata": {},
   "source": [
    "## Normal Distribution\n",
    "\n",
    "1. In the same way in the Uniform Distribution challenge, write a function that generates normally distributed random numbers.\n",
    "1. Generate 1,000 normally distributed numbers with the average of 10 and standard deviation of 1\n",
    "1. Generate 1,000 normally distributed numbers with the average of 10 and standard deviation of 50\n",
    "2. Plot the distributions of the data generated.\n",
    "\n",
    "Expected output:\n",
    "\n",
    "![normal distribution](nd.png)"
   ]
  },
  {
   "cell_type": "code",
   "execution_count": 18,
   "metadata": {},
   "outputs": [],
   "source": [
    "import math \n",
    "from scipy.stats import norm\n",
    "import numpy as np\n",
    "\n",
    "\n",
    "def normal(mean, std, count):\n",
    "    return np.random.normal(mean,std,count)\n",
    "\n"
   ]
  },
  {
   "cell_type": "code",
   "execution_count": 21,
   "metadata": {},
   "outputs": [
    {
     "data": {
      "text/plain": [
       "(array([ 1.,  1.,  1.,  2.,  1.,  4.,  5.,  4.,  9., 13., 20., 13., 28.,\n",
       "        29., 43., 37., 49., 61., 67., 66., 65., 66., 64., 59., 58., 33.,\n",
       "        37., 32., 32., 27., 21., 14., 16.,  6.,  6.,  4.,  2.,  1.,  1.,\n",
       "         2.]),\n",
       " array([-155.79977577, -147.79768917, -139.79560256, -131.79351596,\n",
       "        -123.79142936, -115.78934275, -107.78725615,  -99.78516955,\n",
       "         -91.78308294,  -83.78099634,  -75.77890974,  -67.77682313,\n",
       "         -59.77473653,  -51.77264993,  -43.77056332,  -35.76847672,\n",
       "         -27.76639012,  -19.76430351,  -11.76221691,   -3.7601303 ,\n",
       "           4.2419563 ,   12.2440429 ,   20.24612951,   28.24821611,\n",
       "          36.25030271,   44.25238932,   52.25447592,   60.25656252,\n",
       "          68.25864913,   76.26073573,   84.26282233,   92.26490894,\n",
       "         100.26699554,  108.26908214,  116.27116875,  124.27325535,\n",
       "         132.27534196,  140.27742856,  148.27951516,  156.28160177,\n",
       "         164.28368837]),\n",
       " <BarContainer object of 40 artists>)"
      ]
     },
     "execution_count": 21,
     "metadata": {},
     "output_type": "execute_result"
    },
    {
     "data": {
      "image/png": "[encoded data removed]",
      "text/plain": [
       "<Figure size 432x288 with 2 Axes>"
      ]
     },
     "metadata": {
      "needs_background": "light"
     },
     "output_type": "display_data"
    }
   ],
   "source": [
    "fig, axs = plt.subplots(1,2)\n",
    "axs[0].hist(normal(10, 1, 1000), bins = 40)\n",
    "axs[1].hist(normal(10,50,1000), bins = 40)"
   ]
  },
  {
   "cell_type": "code",
   "execution_count": 13,
   "metadata": {},
   "outputs": [
    {
     "data": {
      "text/plain": [
       "(array([  1.,   6.,  22.,  92., 184., 291., 240., 105.,  46.,  13.]),\n",
       " array([-195.34088515, -158.95001072, -122.55913629,  -86.16826186,\n",
       "         -49.77738742,  -13.38651299,   23.00436144,   59.39523587,\n",
       "          95.7861103 ,  132.17698473,  168.56785917]),\n",
       " <BarContainer object of 10 artists>)"
      ]
     },
     "execution_count": 13,
     "metadata": {},
     "output_type": "execute_result"
    },
    {
     "data": {
      "image/png": "[encoded data removed]",
      "text/plain": [
       "<Figure size 432x288 with 2 Axes>"
      ]
     },
     "metadata": {
      "needs_background": "light"
     },
     "output_type": "display_data"
    }
   ],
   "source": [
    "import math \n",
    "import numpy as np\n",
    "from scipy.stats import norm\n",
    "\n",
    "mu, sigma = 10, 1\n",
    "s = np.random.normal(mu, sigma, 1000)\n",
    "\n",
    "mu, sigma= 10, 50\n",
    "k = np.random.normal(mu, sigma, 1000)\n",
    "\n",
    "\n",
    "fig, axs = plt.subplots(1,2, sharey = True)\n",
    "axs[0].hist(s , bins=10)\n",
    "axs[1].hist(k, bins=10)\n",
    "\n"
   ]
  },
  {
   "cell_type": "code",
   "execution_count": 14,
   "metadata": {},
   "outputs": [
    {
     "data": {
      "text/plain": [
       "(array([3.98486286e-04, 8.96594144e-04, 1.39470200e-03, 1.39470200e-03,\n",
       "        9.96215715e-04, 3.18789029e-03, 4.68221386e-03, 4.48297072e-03,\n",
       "        4.88145700e-03, 7.87010415e-03, 6.37578058e-03, 7.27237472e-03,\n",
       "        7.67086101e-03, 6.27615901e-03, 7.57123944e-03, 7.77048258e-03,\n",
       "        5.97729429e-03, 4.98107858e-03, 3.98486286e-03, 3.28751186e-03,\n",
       "        3.38713343e-03, 1.99243143e-03, 1.49432357e-03, 3.98486286e-04,\n",
       "        2.98864715e-04, 9.96215715e-05, 1.99243143e-04, 1.99243143e-04,\n",
       "        9.96215715e-05, 9.96215715e-05]),\n",
       " array([-120.02608714, -109.98810054,  -99.95011394,  -89.91212734,\n",
       "         -79.87414074,  -69.83615414,  -59.79816754,  -49.76018094,\n",
       "         -39.72219434,  -29.68420774,  -19.64622114,   -9.60823454,\n",
       "           0.42975206,   10.46773866,   20.50572526,   30.54371186,\n",
       "          40.58169845,   50.61968505,   60.65767165,   70.69565825,\n",
       "          80.73364485,   90.77163145,  100.80961805,  110.84760465,\n",
       "         120.88559125,  130.92357785,  140.96156445,  150.99955105,\n",
       "         161.03753765,  171.07552425,  181.11351085]),\n",
       " <BarContainer object of 30 artists>)"
      ]
     },
     "execution_count": 14,
     "metadata": {},
     "output_type": "execute_result"
    },
    {
     "data": {
      "image/png": "[encoded data removed]",
      "text/plain": [
       "<Figure size 432x288 with 2 Axes>"
      ]
     },
     "metadata": {
      "needs_background": "light"
     },
     "output_type": "display_data"
    }
   ],
   "source": [
    "# your code here\n",
    "import numpy as np\n",
    "\n",
    "mu, sigma = 10, 1\n",
    "s = np.random.normal(mu, sigma, 1000)\n",
    "\n",
    "\n",
    "\n",
    "mu,sigma = 10, 50\n",
    "s1= np.random.normal(mu,sigma,1000)\n",
    "\n",
    "\n",
    "\n",
    "\n",
    "\n",
    "fig, axs = plt.subplots(1,2, sharey = False)\n",
    "\n",
    "axs[0].hist(s,bins=30, density = True)\n",
    "axs[1].hist(s1,bins=30,density=True)\n",
    "\n",
    "\n",
    "\n",
    "\n",
    "\n"
   ]
  },
  {
   "cell_type": "markdown",
   "metadata": {},
   "source": [
    "How are the two distributions different?"
   ]
  },
  {
   "cell_type": "code",
   "execution_count": 22,
   "metadata": {},
   "outputs": [],
   "source": [
    "# your answer below\n",
    "#range and recuqncy"
   ]
  },
  {
   "cell_type": "markdown",
   "metadata": {},
   "source": [
    "## Normal Distribution of Real Data\n",
    "\n",
    "In this challenge we are going to take a look the real data. We will use vehicles.csv file for this exercise"
   ]
  },
  {
   "cell_type": "code",
   "execution_count": 23,
   "metadata": {},
   "outputs": [
    {
     "data": {
      "text/html": [
       "<div>\n",
       "<style scoped>\n",
       "    .dataframe tbody tr th:only-of-type {\n",
       "        vertical-align: middle;\n",
       "    }\n",
       "\n",
       "    .dataframe tbody tr th {\n",
       "        vertical-align: top;\n",
       "    }\n",
       "\n",
       "    .dataframe thead th {\n",
       "        text-align: right;\n",
       "    }\n",
       "</style>\n",
       "<table border=\"1\" class=\"dataframe\">\n",
       "  <thead>\n",
       "    <tr style=\"text-align: right;\">\n",
       "      <th></th>\n",
       "      <th>Make</th>\n",
       "      <th>Model</th>\n",
       "      <th>Year</th>\n",
       "      <th>Engine Displacement</th>\n",
       "      <th>Cylinders</th>\n",
       "      <th>Transmission</th>\n",
       "      <th>Drivetrain</th>\n",
       "      <th>Vehicle Class</th>\n",
       "      <th>Fuel Type</th>\n",
       "      <th>Fuel Barrels/Year</th>\n",
       "      <th>City MPG</th>\n",
       "      <th>Highway MPG</th>\n",
       "      <th>Combined MPG</th>\n",
       "      <th>CO2 Emission Grams/Mile</th>\n",
       "      <th>Fuel Cost/Year</th>\n",
       "    </tr>\n",
       "  </thead>\n",
       "  <tbody>\n",
       "    <tr>\n",
       "      <th>0</th>\n",
       "      <td>AM General</td>\n",
       "      <td>DJ Po Vehicle 2WD</td>\n",
       "      <td>1984</td>\n",
       "      <td>2.5</td>\n",
       "      <td>4.0</td>\n",
       "      <td>Automatic 3-spd</td>\n",
       "      <td>2-Wheel Drive</td>\n",
       "      <td>Special Purpose Vehicle 2WD</td>\n",
       "      <td>Regular</td>\n",
       "      <td>19.388824</td>\n",
       "      <td>18</td>\n",
       "      <td>17</td>\n",
       "      <td>17</td>\n",
       "      <td>522.764706</td>\n",
       "      <td>1950</td>\n",
       "    </tr>\n",
       "    <tr>\n",
       "      <th>1</th>\n",
       "      <td>AM General</td>\n",
       "      <td>FJ8c Post Office</td>\n",
       "      <td>1984</td>\n",
       "      <td>4.2</td>\n",
       "      <td>6.0</td>\n",
       "      <td>Automatic 3-spd</td>\n",
       "      <td>2-Wheel Drive</td>\n",
       "      <td>Special Purpose Vehicle 2WD</td>\n",
       "      <td>Regular</td>\n",
       "      <td>25.354615</td>\n",
       "      <td>13</td>\n",
       "      <td>13</td>\n",
       "      <td>13</td>\n",
       "      <td>683.615385</td>\n",
       "      <td>2550</td>\n",
       "    </tr>\n",
       "    <tr>\n",
       "      <th>2</th>\n",
       "      <td>AM General</td>\n",
       "      <td>Post Office DJ5 2WD</td>\n",
       "      <td>1985</td>\n",
       "      <td>2.5</td>\n",
       "      <td>4.0</td>\n",
       "      <td>Automatic 3-spd</td>\n",
       "      <td>Rear-Wheel Drive</td>\n",
       "      <td>Special Purpose Vehicle 2WD</td>\n",
       "      <td>Regular</td>\n",
       "      <td>20.600625</td>\n",
       "      <td>16</td>\n",
       "      <td>17</td>\n",
       "      <td>16</td>\n",
       "      <td>555.437500</td>\n",
       "      <td>2100</td>\n",
       "    </tr>\n",
       "    <tr>\n",
       "      <th>3</th>\n",
       "      <td>AM General</td>\n",
       "      <td>Post Office DJ8 2WD</td>\n",
       "      <td>1985</td>\n",
       "      <td>4.2</td>\n",
       "      <td>6.0</td>\n",
       "      <td>Automatic 3-spd</td>\n",
       "      <td>Rear-Wheel Drive</td>\n",
       "      <td>Special Purpose Vehicle 2WD</td>\n",
       "      <td>Regular</td>\n",
       "      <td>25.354615</td>\n",
       "      <td>13</td>\n",
       "      <td>13</td>\n",
       "      <td>13</td>\n",
       "      <td>683.615385</td>\n",
       "      <td>2550</td>\n",
       "    </tr>\n",
       "    <tr>\n",
       "      <th>4</th>\n",
       "      <td>ASC Incorporated</td>\n",
       "      <td>GNX</td>\n",
       "      <td>1987</td>\n",
       "      <td>3.8</td>\n",
       "      <td>6.0</td>\n",
       "      <td>Automatic 4-spd</td>\n",
       "      <td>Rear-Wheel Drive</td>\n",
       "      <td>Midsize Cars</td>\n",
       "      <td>Premium</td>\n",
       "      <td>20.600625</td>\n",
       "      <td>14</td>\n",
       "      <td>21</td>\n",
       "      <td>16</td>\n",
       "      <td>555.437500</td>\n",
       "      <td>2550</td>\n",
       "    </tr>\n",
       "  </tbody>\n",
       "</table>\n",
       "</div>"
      ],
      "text/plain": [
       "               Make                Model  Year  Engine Displacement  \\\n",
       "0        AM General    DJ Po Vehicle 2WD  1984                  2.5   \n",
       "1        AM General     FJ8c Post Office  1984                  4.2   \n",
       "2        AM General  Post Office DJ5 2WD  1985                  2.5   \n",
       "3        AM General  Post Office DJ8 2WD  1985                  4.2   \n",
       "4  ASC Incorporated                  GNX  1987                  3.8   \n",
       "\n",
       "   Cylinders     Transmission        Drivetrain                Vehicle Class  \\\n",
       "0        4.0  Automatic 3-spd     2-Wheel Drive  Special Purpose Vehicle 2WD   \n",
       "1        6.0  Automatic 3-spd     2-Wheel Drive  Special Purpose Vehicle 2WD   \n",
       "2        4.0  Automatic 3-spd  Rear-Wheel Drive  Special Purpose Vehicle 2WD   \n",
       "3        6.0  Automatic 3-spd  Rear-Wheel Drive  Special Purpose Vehicle 2WD   \n",
       "4        6.0  Automatic 4-spd  Rear-Wheel Drive                 Midsize Cars   \n",
       "\n",
       "  Fuel Type  Fuel Barrels/Year  City MPG  Highway MPG  Combined MPG  \\\n",
       "0   Regular          19.388824        18           17            17   \n",
       "1   Regular          25.354615        13           13            13   \n",
       "2   Regular          20.600625        16           17            16   \n",
       "3   Regular          25.354615        13           13            13   \n",
       "4   Premium          20.600625        14           21            16   \n",
       "\n",
       "   CO2 Emission Grams/Mile  Fuel Cost/Year  \n",
       "0               522.764706            1950  \n",
       "1               683.615385            2550  \n",
       "2               555.437500            2100  \n",
       "3               683.615385            2550  \n",
       "4               555.437500            2550  "
      ]
     },
     "execution_count": 23,
     "metadata": {},
     "output_type": "execute_result"
    }
   ],
   "source": [
    "import pandas as pd\n",
    "\n",
    "df = pd.read_csv(r'C:\\Users\\Yael Aguilar\\Documents\\clasesdata_102020\\data\\vehicles.csv')\n",
    "df.head()"
   ]
  },
  {
   "cell_type": "code",
   "execution_count": 17,
   "metadata": {},
   "outputs": [
    {
     "data": {
      "text/html": [
       "<div>\n",
       "<style scoped>\n",
       "    .dataframe tbody tr th:only-of-type {\n",
       "        vertical-align: middle;\n",
       "    }\n",
       "\n",
       "    .dataframe tbody tr th {\n",
       "        vertical-align: top;\n",
       "    }\n",
       "\n",
       "    .dataframe thead th {\n",
       "        text-align: right;\n",
       "    }\n",
       "</style>\n",
       "<table border=\"1\" class=\"dataframe\">\n",
       "  <thead>\n",
       "    <tr style=\"text-align: right;\">\n",
       "      <th></th>\n",
       "      <th>Make</th>\n",
       "      <th>Model</th>\n",
       "      <th>Year</th>\n",
       "      <th>Engine Displacement</th>\n",
       "      <th>Cylinders</th>\n",
       "      <th>Transmission</th>\n",
       "      <th>Drivetrain</th>\n",
       "      <th>Vehicle Class</th>\n",
       "      <th>Fuel Type</th>\n",
       "      <th>Fuel Barrels/Year</th>\n",
       "      <th>City MPG</th>\n",
       "      <th>Highway MPG</th>\n",
       "      <th>Combined MPG</th>\n",
       "      <th>CO2 Emission Grams/Mile</th>\n",
       "      <th>Fuel Cost/Year</th>\n",
       "    </tr>\n",
       "  </thead>\n",
       "  <tbody>\n",
       "    <tr>\n",
       "      <th>0</th>\n",
       "      <td>AM General</td>\n",
       "      <td>DJ Po Vehicle 2WD</td>\n",
       "      <td>1984</td>\n",
       "      <td>2.5</td>\n",
       "      <td>4.0</td>\n",
       "      <td>Automatic 3-spd</td>\n",
       "      <td>2-Wheel Drive</td>\n",
       "      <td>Special Purpose Vehicle 2WD</td>\n",
       "      <td>Regular</td>\n",
       "      <td>19.388824</td>\n",
       "      <td>18</td>\n",
       "      <td>17</td>\n",
       "      <td>17</td>\n",
       "      <td>522.764706</td>\n",
       "      <td>1950</td>\n",
       "    </tr>\n",
       "    <tr>\n",
       "      <th>1</th>\n",
       "      <td>AM General</td>\n",
       "      <td>FJ8c Post Office</td>\n",
       "      <td>1984</td>\n",
       "      <td>4.2</td>\n",
       "      <td>6.0</td>\n",
       "      <td>Automatic 3-spd</td>\n",
       "      <td>2-Wheel Drive</td>\n",
       "      <td>Special Purpose Vehicle 2WD</td>\n",
       "      <td>Regular</td>\n",
       "      <td>25.354615</td>\n",
       "      <td>13</td>\n",
       "      <td>13</td>\n",
       "      <td>13</td>\n",
       "      <td>683.615385</td>\n",
       "      <td>2550</td>\n",
       "    </tr>\n",
       "    <tr>\n",
       "      <th>2</th>\n",
       "      <td>AM General</td>\n",
       "      <td>Post Office DJ5 2WD</td>\n",
       "      <td>1985</td>\n",
       "      <td>2.5</td>\n",
       "      <td>4.0</td>\n",
       "      <td>Automatic 3-spd</td>\n",
       "      <td>Rear-Wheel Drive</td>\n",
       "      <td>Special Purpose Vehicle 2WD</td>\n",
       "      <td>Regular</td>\n",
       "      <td>20.600625</td>\n",
       "      <td>16</td>\n",
       "      <td>17</td>\n",
       "      <td>16</td>\n",
       "      <td>555.437500</td>\n",
       "      <td>2100</td>\n",
       "    </tr>\n",
       "    <tr>\n",
       "      <th>3</th>\n",
       "      <td>AM General</td>\n",
       "      <td>Post Office DJ8 2WD</td>\n",
       "      <td>1985</td>\n",
       "      <td>4.2</td>\n",
       "      <td>6.0</td>\n",
       "      <td>Automatic 3-spd</td>\n",
       "      <td>Rear-Wheel Drive</td>\n",
       "      <td>Special Purpose Vehicle 2WD</td>\n",
       "      <td>Regular</td>\n",
       "      <td>25.354615</td>\n",
       "      <td>13</td>\n",
       "      <td>13</td>\n",
       "      <td>13</td>\n",
       "      <td>683.615385</td>\n",
       "      <td>2550</td>\n",
       "    </tr>\n",
       "    <tr>\n",
       "      <th>4</th>\n",
       "      <td>ASC Incorporated</td>\n",
       "      <td>GNX</td>\n",
       "      <td>1987</td>\n",
       "      <td>3.8</td>\n",
       "      <td>6.0</td>\n",
       "      <td>Automatic 4-spd</td>\n",
       "      <td>Rear-Wheel Drive</td>\n",
       "      <td>Midsize Cars</td>\n",
       "      <td>Premium</td>\n",
       "      <td>20.600625</td>\n",
       "      <td>14</td>\n",
       "      <td>21</td>\n",
       "      <td>16</td>\n",
       "      <td>555.437500</td>\n",
       "      <td>2550</td>\n",
       "    </tr>\n",
       "  </tbody>\n",
       "</table>\n",
       "</div>"
      ],
      "text/plain": [
       "               Make                Model  Year  Engine Displacement  \\\n",
       "0        AM General    DJ Po Vehicle 2WD  1984                  2.5   \n",
       "1        AM General     FJ8c Post Office  1984                  4.2   \n",
       "2        AM General  Post Office DJ5 2WD  1985                  2.5   \n",
       "3        AM General  Post Office DJ8 2WD  1985                  4.2   \n",
       "4  ASC Incorporated                  GNX  1987                  3.8   \n",
       "\n",
       "   Cylinders     Transmission        Drivetrain                Vehicle Class  \\\n",
       "0        4.0  Automatic 3-spd     2-Wheel Drive  Special Purpose Vehicle 2WD   \n",
       "1        6.0  Automatic 3-spd     2-Wheel Drive  Special Purpose Vehicle 2WD   \n",
       "2        4.0  Automatic 3-spd  Rear-Wheel Drive  Special Purpose Vehicle 2WD   \n",
       "3        6.0  Automatic 3-spd  Rear-Wheel Drive  Special Purpose Vehicle 2WD   \n",
       "4        6.0  Automatic 4-spd  Rear-Wheel Drive                 Midsize Cars   \n",
       "\n",
       "  Fuel Type  Fuel Barrels/Year  City MPG  Highway MPG  Combined MPG  \\\n",
       "0   Regular          19.388824        18           17            17   \n",
       "1   Regular          25.354615        13           13            13   \n",
       "2   Regular          20.600625        16           17            16   \n",
       "3   Regular          25.354615        13           13            13   \n",
       "4   Premium          20.600625        14           21            16   \n",
       "\n",
       "   CO2 Emission Grams/Mile  Fuel Cost/Year  \n",
       "0               522.764706            1950  \n",
       "1               683.615385            2550  \n",
       "2               555.437500            2100  \n",
       "3               683.615385            2550  \n",
       "4               555.437500            2550  "
      ]
     },
     "execution_count": 17,
     "metadata": {},
     "output_type": "execute_result"
    }
   ],
   "source": [
    "import pandas as pd\n",
    "\n",
    "df = pd.read_csv(r'C:\\Users\\Yael Aguilar\\Documents\\clasesdata_102020\\data\\vehicles.csv')\n",
    "df.head()"
   ]
  },
  {
   "cell_type": "markdown",
   "metadata": {},
   "source": [
    "First import vehicles.csv.\n",
    "Then plot the histograms for the following variables:\n",
    "\n",
    "1. Fuel Barrels/Year"
   ]
  },
  {
   "cell_type": "code",
   "execution_count": 26,
   "metadata": {},
   "outputs": [
    {
     "data": {
      "text/plain": [
       "<AxesSubplot:>"
      ]
     },
     "execution_count": 26,
     "metadata": {},
     "output_type": "execute_result"
    },
    {
     "data": {
      "image/png": "[encoded data removed]",
      "text/plain": [
       "<Figure size 432x288 with 1 Axes>"
      ]
     },
     "metadata": {
      "needs_background": "light"
     },
     "output_type": "display_data"
    }
   ],
   "source": [
    "df['Fuel Barrels/Year'].hist(bins=30)"
   ]
  },
  {
   "cell_type": "code",
   "execution_count": 18,
   "metadata": {
    "scrolled": false
   },
   "outputs": [
    {
     "name": "stderr",
     "output_type": "stream",
     "text": [
      "C:\\Users\\Yael Aguilar\\anaconda3\\lib\\site-packages\\seaborn\\distributions.py:2551: FutureWarning: `distplot` is a deprecated function and will be removed in a future version. Please adapt your code to use either `displot` (a figure-level function with similar flexibility) or `histplot` (an axes-level function for histograms).\n",
      "  warnings.warn(msg, FutureWarning)\n"
     ]
    },
    {
     "data": {
      "text/plain": [
       "<AxesSubplot:xlabel='Fuel Barrels/Year', ylabel='Density'>"
      ]
     },
     "execution_count": 18,
     "metadata": {},
     "output_type": "execute_result"
    },
    {
     "data": {
      "image/png": "[encoded data removed]",
      "text/plain": [
       "<Figure size 432x288 with 1 Axes>"
      ]
     },
     "metadata": {
      "needs_background": "light"
     },
     "output_type": "display_data"
    }
   ],
   "source": [
    "import seaborn as sns \n",
    "\n",
    "sns.distplot(df['Fuel Barrels/Year'])"
   ]
  },
  {
   "cell_type": "code",
   "execution_count": 19,
   "metadata": {},
   "outputs": [
    {
     "name": "stderr",
     "output_type": "stream",
     "text": [
      "C:\\Users\\Yael Aguilar\\anaconda3\\lib\\site-packages\\seaborn\\distributions.py:2551: FutureWarning: `distplot` is a deprecated function and will be removed in a future version. Please adapt your code to use either `displot` (a figure-level function with similar flexibility) or `histplot` (an axes-level function for histograms).\n",
      "  warnings.warn(msg, FutureWarning)\n"
     ]
    },
    {
     "data": {
      "text/plain": [
       "<AxesSubplot:xlabel='Fuel Cost/Year', ylabel='Density'>"
      ]
     },
     "execution_count": 19,
     "metadata": {},
     "output_type": "execute_result"
    },
    {
     "data": {
      "image/png": "[encoded data removed]",
      "text/plain": [
       "<Figure size 432x288 with 1 Axes>"
      ]
     },
     "metadata": {
      "needs_background": "light"
     },
     "output_type": "display_data"
    }
   ],
   "source": [
    "# your code here\n",
    "import seaborn as sns\n",
    "\n",
    "sns.distplot(df['Fuel Cost/Year'])\n",
    "\n",
    "\n"
   ]
  },
  {
   "cell_type": "code",
   "execution_count": 20,
   "metadata": {},
   "outputs": [
    {
     "data": {
      "text/plain": [
       "<AxesSubplot:>"
      ]
     },
     "execution_count": 20,
     "metadata": {},
     "output_type": "execute_result"
    },
    {
     "data": {
      "image/png": "[encoded data removed]",
      "text/plain": [
       "<Figure size 432x288 with 1 Axes>"
      ]
     },
     "metadata": {
      "needs_background": "light"
     },
     "output_type": "display_data"
    }
   ],
   "source": [
    "df['Fuel Barrels/Year'].hist(bins=20)"
   ]
  },
  {
   "cell_type": "markdown",
   "metadata": {},
   "source": [
    "2. CO2 Emission Grams/Mile "
   ]
  },
  {
   "cell_type": "code",
   "execution_count": 21,
   "metadata": {},
   "outputs": [
    {
     "data": {
      "text/plain": [
       "<AxesSubplot:>"
      ]
     },
     "execution_count": 21,
     "metadata": {},
     "output_type": "execute_result"
    },
    {
     "data": {
      "image/png": "[encoded data removed]",
      "text/plain": [
       "<Figure size 432x288 with 1 Axes>"
      ]
     },
     "metadata": {
      "needs_background": "light"
     },
     "output_type": "display_data"
    }
   ],
   "source": [
    "df['CO2 Emission Grams/Mile'].hist(bins=20)"
   ]
  },
  {
   "cell_type": "code",
   "execution_count": 22,
   "metadata": {},
   "outputs": [
    {
     "data": {
      "text/plain": [
       "<AxesSubplot:>"
      ]
     },
     "execution_count": 22,
     "metadata": {},
     "output_type": "execute_result"
    },
    {
     "data": {
      "image/png": "[encoded data removed]",
      "text/plain": [
       "<Figure size 432x288 with 1 Axes>"
      ]
     },
     "metadata": {
      "needs_background": "light"
     },
     "output_type": "display_data"
    }
   ],
   "source": [
    "# your code here\n",
    "\n",
    "df['CO2 Emission Grams/Mile'].hist(bins=20)"
   ]
  },
  {
   "cell_type": "markdown",
   "metadata": {},
   "source": [
    "3. Combined MPG"
   ]
  },
  {
   "cell_type": "code",
   "execution_count": 24,
   "metadata": {},
   "outputs": [
    {
     "name": "stdout",
     "output_type": "stream",
     "text": [
      "not normal distribution\n"
     ]
    },
    {
     "data": {
      "image/png": "[encoded data removed]",
      "text/plain": [
       "<Figure size 432x288 with 1 Axes>"
      ]
     },
     "metadata": {
      "needs_background": "light"
     },
     "output_type": "display_data"
    }
   ],
   "source": [
    "# your code here\n",
    "from scipy import stats \n",
    "df['Combined MPG'].hist(bins=20)\n",
    "\n",
    "k2, p = stats.normaltest(df['Combined MPG'])\n",
    "if p < 1:\n",
    "    print('not normal distribution')"
   ]
  },
  {
   "cell_type": "markdown",
   "metadata": {},
   "source": [
    "Which one(s) of the variables are nearly normally distributed? How do you know?"
   ]
  },
  {
   "cell_type": "code",
   "execution_count": 27,
   "metadata": {},
   "outputs": [
    {
     "name": "stdout",
     "output_type": "stream",
     "text": [
      "Fuel Barrels/Year: 0.6382445784906978\n",
      "CO2 Emission Grams/Mile: 0.7416608937445334\n",
      "Combined MPG: 1.0677281511016457\n"
     ]
    }
   ],
   "source": [
    "# your answer here\n",
    "\n",
    "from scipy import stats\n",
    "\n",
    "\n",
    "\n",
    "def skew(arr):\n",
    "    for i in arr:\n",
    "        print(f'{i}: {stats.skew(df[i])}')\n",
    "        \n",
    "        \n",
    "arr = ['Fuel Barrels/Year', 'CO2 Emission Grams/Mile', 'Combined MPG']\n",
    "\n",
    "skew(arr)\n",
    "\n",
    "\n",
    "#Fuel Barrels/Year is the more normally distributed\n",
    "\n"
   ]
  },
  {
   "cell_type": "markdown",
   "metadata": {},
   "source": [
    "## Exponential Distribution"
   ]
  },
  {
   "cell_type": "markdown",
   "metadata": {},
   "source": [
    "1. Using `numpy.random.exponential`, create a function that returns a list of numbers exponentially distributed with the mean of 10. \n",
    "\n",
    "1. Use the function to generate two number sequences with the size of 1 and 100.\n",
    "\n",
    "1. Plot the distributions as histograms with the nubmer of bins as 100.\n",
    "\n",
    "Your output should look like below:\n",
    "\n",
    "![exponential distribution](ed.png)"
   ]
  },
  {
   "cell_type": "code",
   "execution_count": 28,
   "metadata": {},
   "outputs": [],
   "source": [
    "def func(mean, count):\n",
    "    return np.random.exponential(mean, count)\n"
   ]
  },
  {
   "cell_type": "code",
   "execution_count": 41,
   "metadata": {},
   "outputs": [
    {
     "data": {
      "text/plain": [
       "(array([67., 61., 64., 48., 53., 41., 43., 51., 31., 36., 29., 25., 38.,\n",
       "        22., 21., 32., 27., 20., 10., 18., 12., 10., 18., 11.,  9.,  8.,\n",
       "        16.,  7., 13.,  7.,  9., 10., 13.,  6.,  5.,  6.,  8.,  7.,  5.,\n",
       "         4.,  7.,  5.,  4.,  3.,  4.,  4.,  1.,  4.,  7.,  3.,  0.,  1.,\n",
       "         3.,  1.,  3.,  2.,  4.,  1.,  4.,  0.,  1.,  2.,  4.,  1.,  0.,\n",
       "         1.,  1.,  0.,  1.,  1.,  0.,  0.,  1.,  0.,  1.,  0.,  0.,  0.,\n",
       "         0.,  0.,  1.,  0.,  0.,  1.,  0.,  0.,  0.,  0.,  0.,  0.,  0.,\n",
       "         0.,  0.,  0.,  0.,  0.,  0.,  0.,  0.,  2.]),\n",
       " array([1.09400973e-02, 7.14771822e-01, 1.41860355e+00, 2.12243527e+00,\n",
       "        2.82626700e+00, 3.53009872e+00, 4.23393044e+00, 4.93776217e+00,\n",
       "        5.64159389e+00, 6.34542562e+00, 7.04925734e+00, 7.75308907e+00,\n",
       "        8.45692079e+00, 9.16075251e+00, 9.86458424e+00, 1.05684160e+01,\n",
       "        1.12722477e+01, 1.19760794e+01, 1.26799111e+01, 1.33837429e+01,\n",
       "        1.40875746e+01, 1.47914063e+01, 1.54952380e+01, 1.61990698e+01,\n",
       "        1.69029015e+01, 1.76067332e+01, 1.83105649e+01, 1.90143967e+01,\n",
       "        1.97182284e+01, 2.04220601e+01, 2.11258918e+01, 2.18297236e+01,\n",
       "        2.25335553e+01, 2.32373870e+01, 2.39412187e+01, 2.46450505e+01,\n",
       "        2.53488822e+01, 2.60527139e+01, 2.67565456e+01, 2.74603773e+01,\n",
       "        2.81642091e+01, 2.88680408e+01, 2.95718725e+01, 3.02757042e+01,\n",
       "        3.09795360e+01, 3.16833677e+01, 3.23871994e+01, 3.30910311e+01,\n",
       "        3.37948629e+01, 3.44986946e+01, 3.52025263e+01, 3.59063580e+01,\n",
       "        3.66101898e+01, 3.73140215e+01, 3.80178532e+01, 3.87216849e+01,\n",
       "        3.94255167e+01, 4.01293484e+01, 4.08331801e+01, 4.15370118e+01,\n",
       "        4.22408436e+01, 4.29446753e+01, 4.36485070e+01, 4.43523387e+01,\n",
       "        4.50561705e+01, 4.57600022e+01, 4.64638339e+01, 4.71676656e+01,\n",
       "        4.78714974e+01, 4.85753291e+01, 4.92791608e+01, 4.99829925e+01,\n",
       "        5.06868243e+01, 5.13906560e+01, 5.20944877e+01, 5.27983194e+01,\n",
       "        5.35021512e+01, 5.42059829e+01, 5.49098146e+01, 5.56136463e+01,\n",
       "        5.63174781e+01, 5.70213098e+01, 5.77251415e+01, 5.84289732e+01,\n",
       "        5.91328049e+01, 5.98366367e+01, 6.05404684e+01, 6.12443001e+01,\n",
       "        6.19481318e+01, 6.26519636e+01, 6.33557953e+01, 6.40596270e+01,\n",
       "        6.47634587e+01, 6.54672905e+01, 6.61711222e+01, 6.68749539e+01,\n",
       "        6.75787856e+01, 6.82826174e+01, 6.89864491e+01, 6.96902808e+01,\n",
       "        7.03941125e+01]),\n",
       " <BarContainer object of 100 artists>)"
      ]
     },
     "execution_count": 41,
     "metadata": {},
     "output_type": "execute_result"
    },
    {
     "data": {
      "image/png": "[encoded data removed]",
      "text/plain": [
       "<Figure size 432x288 with 2 Axes>"
      ]
     },
     "metadata": {
      "needs_background": "light"
     },
     "output_type": "display_data"
    }
   ],
   "source": [
    "fig, axs = plt.subplots(1,2)\n",
    "axs[0].hist(func(10,100), bins =10)\n",
    "axs[1].hist(func(10, 1000), bins=100)"
   ]
  },
  {
   "cell_type": "code",
   "execution_count": null,
   "metadata": {},
   "outputs": [],
   "source": []
  },
  {
   "cell_type": "code",
   "execution_count": null,
   "metadata": {},
   "outputs": [],
   "source": []
  },
  {
   "cell_type": "code",
   "execution_count": 25,
   "metadata": {},
   "outputs": [],
   "source": [
    "# your code here\n",
    "\n",
    "def func(mean, count):\n",
    "    return np.random.exponential(mean, count)\n",
    "\n"
   ]
  },
  {
   "cell_type": "code",
   "execution_count": 31,
   "metadata": {},
   "outputs": [
    {
     "data": {
      "text/plain": [
       "(array([84., 70., 75., 77., 61., 64., 55., 42., 43., 55., 33., 26., 30.,\n",
       "        28., 21., 18., 23., 16., 13., 10., 14., 15., 12.,  7.,  8., 11.,\n",
       "         5.,  7.,  6., 10.,  3.,  4.,  7.,  3.,  3.,  8.,  4., 10.,  0.,\n",
       "         1.,  1.,  1.,  3.,  0.,  1.,  1.,  1.,  0.,  0.,  2.,  0.,  0.,\n",
       "         0.,  0.,  3.,  0.,  1.,  0.,  0.,  0.,  0.,  0.,  0.,  0.,  0.,\n",
       "         0.,  0.,  0.,  0.,  0.,  0.,  0.,  0.,  0.,  0.,  1.,  0.,  0.,\n",
       "         1.,  0.,  0.,  1.,  0.,  0.,  0.,  0.,  0.,  0.,  0.,  0.,  0.,\n",
       "         0.,  0.,  0.,  0.,  0.,  0.,  0.,  0.,  1.]),\n",
       " array([6.88382664e-03, 9.68638723e-01, 1.93039362e+00, 2.89214852e+00,\n",
       "        3.85390341e+00, 4.81565831e+00, 5.77741321e+00, 6.73916810e+00,\n",
       "        7.70092300e+00, 8.66267790e+00, 9.62443279e+00, 1.05861877e+01,\n",
       "        1.15479426e+01, 1.25096975e+01, 1.34714524e+01, 1.44332073e+01,\n",
       "        1.53949622e+01, 1.63567171e+01, 1.73184720e+01, 1.82802269e+01,\n",
       "        1.92419818e+01, 2.02037367e+01, 2.11654916e+01, 2.21272465e+01,\n",
       "        2.30890014e+01, 2.40507562e+01, 2.50125111e+01, 2.59742660e+01,\n",
       "        2.69360209e+01, 2.78977758e+01, 2.88595307e+01, 2.98212856e+01,\n",
       "        3.07830405e+01, 3.17447954e+01, 3.27065503e+01, 3.36683052e+01,\n",
       "        3.46300601e+01, 3.55918150e+01, 3.65535699e+01, 3.75153248e+01,\n",
       "        3.84770797e+01, 3.94388346e+01, 4.04005895e+01, 4.13623444e+01,\n",
       "        4.23240993e+01, 4.32858542e+01, 4.42476091e+01, 4.52093640e+01,\n",
       "        4.61711189e+01, 4.71328738e+01, 4.80946287e+01, 4.90563836e+01,\n",
       "        5.00181385e+01, 5.09798934e+01, 5.19416483e+01, 5.29034032e+01,\n",
       "        5.38651580e+01, 5.48269129e+01, 5.57886678e+01, 5.67504227e+01,\n",
       "        5.77121776e+01, 5.86739325e+01, 5.96356874e+01, 6.05974423e+01,\n",
       "        6.15591972e+01, 6.25209521e+01, 6.34827070e+01, 6.44444619e+01,\n",
       "        6.54062168e+01, 6.63679717e+01, 6.73297266e+01, 6.82914815e+01,\n",
       "        6.92532364e+01, 7.02149913e+01, 7.11767462e+01, 7.21385011e+01,\n",
       "        7.31002560e+01, 7.40620109e+01, 7.50237658e+01, 7.59855207e+01,\n",
       "        7.69472756e+01, 7.79090305e+01, 7.88707854e+01, 7.98325403e+01,\n",
       "        8.07942952e+01, 8.17560501e+01, 8.27178050e+01, 8.36795598e+01,\n",
       "        8.46413147e+01, 8.56030696e+01, 8.65648245e+01, 8.75265794e+01,\n",
       "        8.84883343e+01, 8.94500892e+01, 9.04118441e+01, 9.13735990e+01,\n",
       "        9.23353539e+01, 9.32971088e+01, 9.42588637e+01, 9.52206186e+01,\n",
       "        9.61823735e+01]),\n",
       " <BarContainer object of 100 artists>)"
      ]
     },
     "execution_count": 31,
     "metadata": {},
     "output_type": "execute_result"
    },
    {
     "data": {
      "image/png": "[encoded data removed]",
      "text/plain": [
       "<Figure size 432x288 with 2 Axes>"
      ]
     },
     "metadata": {
      "needs_background": "light"
     },
     "output_type": "display_data"
    }
   ],
   "source": [
    "fig, (ax1, ax2) = plt.subplots(1, 2, sharey = True)\n",
    "ax1.hist(func(1, 1000), bins= 100)\n",
    "ax2.hist(func(10, 1000), bins = 100)"
   ]
  },
  {
   "cell_type": "markdown",
   "metadata": {},
   "source": [
    "How are the two distributions different?"
   ]
  },
  {
   "cell_type": "code",
   "execution_count": null,
   "metadata": {},
   "outputs": [],
   "source": [
    "# your answer here\n",
    "\n",
    "the range is 10 times more of diference "
   ]
  },
  {
   "cell_type": "markdown",
   "metadata": {},
   "source": [
    "## Exponential Distribution of Real Data\n",
    "\n",
    "Suppose that the amount of time one spends in a bank is exponentially distributed with mean as 10 minutes (i.e. λ = 1/10). What is the probability that a customer will spend less than fifteen minutes in the bank? \n",
    "\n",
    "Write a code in python to solve this problem"
   ]
  },
  {
   "cell_type": "code",
   "execution_count": 42,
   "metadata": {},
   "outputs": [
    {
     "data": {
      "text/plain": [
       "0.02287679245496101"
      ]
     },
     "execution_count": 42,
     "metadata": {},
     "output_type": "execute_result"
    }
   ],
   "source": [
    "probability = stats.geom.pmf(k=15,\n",
    "                             p=1/10 \n",
    "                             )\n",
    "probability"
   ]
  },
  {
   "cell_type": "code",
   "execution_count": 4,
   "metadata": {},
   "outputs": [
    {
     "data": {
      "text/plain": [
       "0.486582880967408"
      ]
     },
     "execution_count": 4,
     "metadata": {},
     "output_type": "execute_result"
    }
   ],
   "source": [
    "# your answer here\n",
    "# Hint: This is same as saying P(x<15)\n",
    "import math \n",
    "\n",
    "l = 1/10\n",
    "x=15\n",
    "exp = 1-math.exp(-l*x)\n",
    "exp\n"
   ]
  },
  {
   "cell_type": "markdown",
   "metadata": {},
   "source": [
    "What is the probability that the customer will spend more than 15 minutes"
   ]
  },
  {
   "cell_type": "code",
   "execution_count": 2,
   "metadata": {},
   "outputs": [],
   "source": [
    "# your answer here"
   ]
  },
  {
   "cell_type": "code",
   "execution_count": 3,
   "metadata": {},
   "outputs": [
    {
     "data": {
      "text/plain": [
       "0.22313016014842982"
      ]
     },
     "execution_count": 3,
     "metadata": {},
     "output_type": "execute_result"
    }
   ],
   "source": [
    "math.exp(-l*15)"
   ]
  },
  {
   "cell_type": "code",
   "execution_count": null,
   "metadata": {},
   "outputs": [],
   "source": []
  }
 ],
 "metadata": {
  "kernelspec": {
   "display_name": "Python 3",
   "language": "python",
   "name": "python3"
  },
  "language_info": {
   "codemirror_mode": {
    "name": "ipython",
    "version": 3
   },
   "file_extension": ".py",
   "mimetype": "text/x-python",
   "name": "python",
   "nbconvert_exporter": "python",
   "pygments_lexer": "ipython3",
   "version": "3.8.5"
  }
 },
 "nbformat": 4,
 "nbformat_minor": 2
}
