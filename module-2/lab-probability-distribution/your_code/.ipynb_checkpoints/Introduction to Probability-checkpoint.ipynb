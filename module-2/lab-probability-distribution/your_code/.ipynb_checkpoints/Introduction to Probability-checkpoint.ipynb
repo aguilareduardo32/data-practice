{
 "cells": [
  {
   "cell_type": "markdown",
   "metadata": {},
   "source": [
    "# Introduction to Probability\n",
    "\n",
    "\n",
    "Lesson Goals\n",
    "\n",
    "In this lesson we will cover the fundamentals of probability.\n",
    "Introduction\n",
    "\n",
    "Probability theory was developed in the seventeenth century to gain a better understanding of games of chance. Today these theories are the basis for data science and have many other real world applications. We will learn about the fundamentals of probability theory and apply what we have learned using Python.\n",
    "Key Concepts\n",
    "\n",
    "In order to learn about probability, we must first speak the language of probability.\n",
    "Sample Space\n",
    "\n",
    "Since probability is rooted in games of chance, we will use different games of chance to explain probability. When playing a game of chance, we consider the game to be an experiment with a finite number of outcomes. The list of all those possible outcomes is called the sample space.\n",
    "\n",
    "For example, if we toss a coin, all possible outcomes are heads and tails. If we roll a die, all possible outcomes are 1, 2, 3, 4, 5, 6.\n",
    "\n",
    "We use the Greek letter О© to denote the entire sample space of a random experiment. For the coin, we typically denote the sample space as О© = {H, T}. For the die, we denote the sample space as О© = {1, 2, 3, 4, 5, 6}.\n",
    "Events\n",
    "\n",
    "We can create a subset of of the sample space called an event. We then enumerate all outcomes in the event.\n",
    "\n",
    "For example, we can define the event that die roll is even. In this case A = {2, 4, 6}.\n",
    "\n",
    "Another example is the event that a die roll is less than or equal to 2. B = {1, 2}.\n",
    "Calculating Probabilities\n",
    "\n",
    "Calculating probabilities can be seen as the ratio of an event to the entire sample space. We count the number of outcomes in the event and divide them by the number of outcomes in the sample space. We denote a probability with P(Event).\n",
    "\n",
    "For example, the probability that we flip a coin and get heads = P(H) = 1/2.\n",
    "\n",
    "Let's try this out in Python."
   ]
  },
  {
   "cell_type": "code",
   "execution_count": 1,
   "metadata": {},
   "outputs": [
    {
     "name": "stdout",
     "output_type": "stream",
     "text": [
      "0.5\n"
     ]
    }
   ],
   "source": [
    "def even(x):\n",
    "    return(x % 2 == 0)\n",
    "\n",
    "sample_space = [1, 2, 3, 4, 5, 6]\n",
    "die_sides = len(sample_space)\n",
    "even_roll = len([x for x in sample_space if even(x)])\n",
    "even_probability = even_roll / die_sides\n",
    "print(even_probability)"
   ]
  },
  {
   "cell_type": "markdown",
   "metadata": {},
   "source": [
    "# Union and Intersection\n",
    "\n",
    "\n",
    "Union\n",
    "\n",
    "The union of sets A and B is denoted by Aв€ЄB and contains the distinct set of all elements that are in A and all elements that are in B.\n",
    "\n",
    "For example, if event A is all odd rolls of a die and event B is all outcomes greater than 4, then their union is:\n",
    "\n",
    "A = {1, 3, 5}, B = {5, 6}, Aв€ЄB = {1, 3, 5, 6}\n",
    "Intersection\n",
    "\n",
    "The intersection of sets A and B is denoted by Aв€©B and contains all elements that are both in A and in B.\n",
    "\n",
    "For example, using our previously defined events A and B, the intersection of A and B is:\n",
    "\n",
    "Aв€©B = {5}\n",
    "\n",
    "\n",
    "Python Example\n",
    "\n",
    "Recall that we have learned about the set data structure in previous lessons. We can create two sets and find the intersection and the union of those sets."
   ]
  },
  {
   "cell_type": "code",
   "execution_count": 2,
   "metadata": {},
   "outputs": [
    {
     "name": "stdout",
     "output_type": "stream",
     "text": [
      "{1, 3, 5, 6}\n",
      "\n",
      "{5}\n"
     ]
    }
   ],
   "source": [
    "a = set([1, 3, 5])\n",
    "b = set([5, 6])\n",
    "print (a.union(b))\n",
    "print ('')\n",
    "print (a.intersection(b))"
   ]
  },
  {
   "cell_type": "markdown",
   "metadata": {},
   "source": [
    "# The Three Axioms of Probability\n",
    "\n",
    "Now that we have defined key concepts, we can look at the three rules that define the entire field of probability:\n",
    "\n",
    "    Axiom 1\n",
    "    The probability of an event is a non negative real number.\n",
    "\n",
    "    Axiom 2\n",
    "    The probability of the entire sample space is 1 or P(О©) = 1.\n",
    "\n",
    "    Axiom 3\n",
    "    The union of mutually exclusive events is equal to the sum of these events."
   ]
  },
  {
   "cell_type": "markdown",
   "metadata": {},
   "source": [
    "# Some Probability Definitions\n",
    "\n",
    "\n",
    "Mutual Exclusivity\n",
    "\n",
    "Events that are mutually exclusive are events that have no intersection. In probability we say that their intersection is the empty set. For example, all odd die rolls and all even die rolls are mutually exclusive events.\n",
    "\n",
    "\n",
    "\n",
    "Conditional Probability\n",
    "\n",
    "The conditional probability P(A|B) is the probability of event A given that event B as occurred. We can think of this as limiting the sample space to the event B and then recomputing the probability of A in this new sample space."
   ]
  },
  {
   "cell_type": "markdown",
   "metadata": {},
   "source": [
    "Independence and Dependence of Events\n",
    "\n",
    "Two events are said to be independent if one does not impact the other."
   ]
  },
  {
   "cell_type": "code",
   "execution_count": null,
   "metadata": {},
   "outputs": [],
   "source": []
  }
 ],
 "metadata": {
  "kernelspec": {
   "display_name": "Python 3",
   "language": "python",
   "name": "python3"
  },
  "language_info": {
   "codemirror_mode": {
    "name": "ipython",
    "version": 3
   },
   "file_extension": ".py",
   "mimetype": "text/x-python",
   "name": "python",
   "nbconvert_exporter": "python",
   "pygments_lexer": "ipython3",
   "version": "3.8.5"
  }
 },
 "nbformat": 4,
 "nbformat_minor": 2
}
