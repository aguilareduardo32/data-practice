{
 "cells": [
  {
   "cell_type": "code",
   "execution_count": 3,
   "metadata": {},
   "outputs": [],
   "source": [
    "#calculate the probability of cancer patient and diagnostisc test\n",
    "\n",
    "#calculate P(A|B) given p(A), p(B|A), P((B|not A))\n",
    "def bayes_theorem(p_a, p_b_given_a, p_b_given_not_a):\n",
    "    #calculate p(not A)\n",
    "    not_a = 1 - p_a\n",
    "    #calculate p(B)\n",
    "    p_b = p_b_given_a * p_a + p_b_given_not_a * not_a\n",
    "    #calculate P(A|B)\n",
    "    p_a_given_b = (p_b_given_a * p_a) / p_b\n",
    "    return p_a_given_b\n",
    "\n",
    "\n",
    "    "
   ]
  },
  {
   "cell_type": "code",
   "execution_count": 4,
   "metadata": {},
   "outputs": [
    {
     "name": "stdout",
     "output_type": "stream",
     "text": [
      "P(A|B) = 0.339%\n"
     ]
    }
   ],
   "source": [
    "p_a = 0.0002\n",
    "p_b_given_a = 0.85\n",
    "p_b_given_not_a = 0.05\n",
    "\n",
    "result = bayes_theorem(p_a, p_b_given_a, p_b_given_not_a)\n",
    "print('P(A|B) = %.3F%%' %(result * 100))"
   ]
  },
  {
   "cell_type": "code",
   "execution_count": null,
   "metadata": {},
   "outputs": [],
   "source": []
  }
 ],
 "metadata": {
  "kernelspec": {
   "display_name": "Python 3",
   "language": "python",
   "name": "python3"
  },
  "language_info": {
   "codemirror_mode": {
    "name": "ipython",
    "version": 3
   },
   "file_extension": ".py",
   "mimetype": "text/x-python",
   "name": "python",
   "nbconvert_exporter": "python",
   "pygments_lexer": "ipython3",
   "version": "3.8.5"
  }
 },
 "nbformat": 4,
 "nbformat_minor": 4
}
